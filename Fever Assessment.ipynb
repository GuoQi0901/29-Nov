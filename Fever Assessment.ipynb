{
 "cells": [
  {
   "cell_type": "code",
   "execution_count": 43,
   "metadata": {},
   "outputs": [],
   "source": [
    "import numpy as np\n",
    "import pandas as pd\n",
    "import matplotlib.pyplot as plt\n",
    "import plotly.graph_objects as go\n",
    "import plotly\n",
    "import plotly.offline as py\n",
    "import datetime as dt \n",
    "from scipy import stats as st\n",
    "import warnings\n",
    "warnings.simplefilter('ignore')"
   ]
  },
  {
   "cell_type": "code",
   "execution_count": 44,
   "metadata": {},
   "outputs": [],
   "source": [
    "df = pd.read_csv('purchases.csv')"
   ]
  },
  {
   "cell_type": "code",
   "execution_count": 45,
   "metadata": {},
   "outputs": [
    {
     "data": {
      "text/plain": [
       "date_purchased    0\n",
       "id_ticket         0\n",
       "id_user           0\n",
       "city_of_event     0\n",
       "revenue           4\n",
       "is_free_ticket    0\n",
       "dtype: int64"
      ]
     },
     "execution_count": 45,
     "metadata": {},
     "output_type": "execute_result"
    }
   ],
   "source": [
    "# check the Nan \n",
    "df.isna().sum()"
   ]
  },
  {
   "cell_type": "code",
   "execution_count": 46,
   "metadata": {},
   "outputs": [
    {
     "data": {
      "text/html": [
       "<div>\n",
       "<style scoped>\n",
       "    .dataframe tbody tr th:only-of-type {\n",
       "        vertical-align: middle;\n",
       "    }\n",
       "\n",
       "    .dataframe tbody tr th {\n",
       "        vertical-align: top;\n",
       "    }\n",
       "\n",
       "    .dataframe thead th {\n",
       "        text-align: right;\n",
       "    }\n",
       "</style>\n",
       "<table border=\"1\" class=\"dataframe\">\n",
       "  <thead>\n",
       "    <tr style=\"text-align: right;\">\n",
       "      <th></th>\n",
       "      <th>date_purchased</th>\n",
       "      <th>id_ticket</th>\n",
       "      <th>id_user</th>\n",
       "      <th>city_of_event</th>\n",
       "      <th>revenue</th>\n",
       "      <th>is_free_ticket</th>\n",
       "    </tr>\n",
       "  </thead>\n",
       "  <tbody>\n",
       "    <tr>\n",
       "      <th>0</th>\n",
       "      <td>2019-09-21</td>\n",
       "      <td>13965092</td>\n",
       "      <td>39741238</td>\n",
       "      <td>5</td>\n",
       "      <td>0.0</td>\n",
       "      <td>True</td>\n",
       "    </tr>\n",
       "    <tr>\n",
       "      <th>1</th>\n",
       "      <td>2019-09-29</td>\n",
       "      <td>14043914</td>\n",
       "      <td>37767368</td>\n",
       "      <td>5</td>\n",
       "      <td>0.0</td>\n",
       "      <td>True</td>\n",
       "    </tr>\n",
       "    <tr>\n",
       "      <th>2</th>\n",
       "      <td>2019-10-20</td>\n",
       "      <td>14209374</td>\n",
       "      <td>36360650</td>\n",
       "      <td>5</td>\n",
       "      <td>0.0</td>\n",
       "      <td>True</td>\n",
       "    </tr>\n",
       "    <tr>\n",
       "      <th>3</th>\n",
       "      <td>2019-10-22</td>\n",
       "      <td>14220595</td>\n",
       "      <td>44256387</td>\n",
       "      <td>5</td>\n",
       "      <td>0.0</td>\n",
       "      <td>True</td>\n",
       "    </tr>\n",
       "    <tr>\n",
       "      <th>4</th>\n",
       "      <td>2019-10-26</td>\n",
       "      <td>14248234</td>\n",
       "      <td>44272538</td>\n",
       "      <td>5</td>\n",
       "      <td>0.0</td>\n",
       "      <td>True</td>\n",
       "    </tr>\n",
       "  </tbody>\n",
       "</table>\n",
       "</div>"
      ],
      "text/plain": [
       "  date_purchased  id_ticket   id_user  city_of_event  revenue  is_free_ticket\n",
       "0     2019-09-21   13965092  39741238              5      0.0            True\n",
       "1     2019-09-29   14043914  37767368              5      0.0            True\n",
       "2     2019-10-20   14209374  36360650              5      0.0            True\n",
       "3     2019-10-22   14220595  44256387              5      0.0            True\n",
       "4     2019-10-26   14248234  44272538              5      0.0            True"
      ]
     },
     "execution_count": 46,
     "metadata": {},
     "output_type": "execute_result"
    }
   ],
   "source": [
    "df.head()"
   ]
  },
  {
   "cell_type": "code",
   "execution_count": 47,
   "metadata": {},
   "outputs": [
    {
     "data": {
      "text/html": [
       "<div>\n",
       "<style scoped>\n",
       "    .dataframe tbody tr th:only-of-type {\n",
       "        vertical-align: middle;\n",
       "    }\n",
       "\n",
       "    .dataframe tbody tr th {\n",
       "        vertical-align: top;\n",
       "    }\n",
       "\n",
       "    .dataframe thead th {\n",
       "        text-align: right;\n",
       "    }\n",
       "</style>\n",
       "<table border=\"1\" class=\"dataframe\">\n",
       "  <thead>\n",
       "    <tr style=\"text-align: right;\">\n",
       "      <th></th>\n",
       "      <th>date_purchased</th>\n",
       "      <th>id_ticket</th>\n",
       "      <th>id_user</th>\n",
       "      <th>city_of_event</th>\n",
       "      <th>revenue</th>\n",
       "      <th>is_free_ticket</th>\n",
       "    </tr>\n",
       "  </thead>\n",
       "  <tbody>\n",
       "    <tr>\n",
       "      <th>12587</th>\n",
       "      <td>2019-10-11</td>\n",
       "      <td>14121781</td>\n",
       "      <td>40837932</td>\n",
       "      <td>5</td>\n",
       "      <td>NaN</td>\n",
       "      <td>False</td>\n",
       "    </tr>\n",
       "    <tr>\n",
       "      <th>55202</th>\n",
       "      <td>2019-08-31</td>\n",
       "      <td>13827045</td>\n",
       "      <td>43590227</td>\n",
       "      <td>5</td>\n",
       "      <td>NaN</td>\n",
       "      <td>False</td>\n",
       "    </tr>\n",
       "    <tr>\n",
       "      <th>102632</th>\n",
       "      <td>2019-09-08</td>\n",
       "      <td>13875225</td>\n",
       "      <td>44088618</td>\n",
       "      <td>5</td>\n",
       "      <td>NaN</td>\n",
       "      <td>False</td>\n",
       "    </tr>\n",
       "    <tr>\n",
       "      <th>238104</th>\n",
       "      <td>2019-10-21</td>\n",
       "      <td>14213572</td>\n",
       "      <td>41063123</td>\n",
       "      <td>6</td>\n",
       "      <td>NaN</td>\n",
       "      <td>False</td>\n",
       "    </tr>\n",
       "  </tbody>\n",
       "</table>\n",
       "</div>"
      ],
      "text/plain": [
       "       date_purchased  id_ticket   id_user  city_of_event  revenue  \\\n",
       "12587      2019-10-11   14121781  40837932              5      NaN   \n",
       "55202      2019-08-31   13827045  43590227              5      NaN   \n",
       "102632     2019-09-08   13875225  44088618              5      NaN   \n",
       "238104     2019-10-21   14213572  41063123              6      NaN   \n",
       "\n",
       "        is_free_ticket  \n",
       "12587            False  \n",
       "55202            False  \n",
       "102632           False  \n",
       "238104           False  "
      ]
     },
     "execution_count": 47,
     "metadata": {},
     "output_type": "execute_result"
    }
   ],
   "source": [
    "# Only 4 missing values\n",
    "df[df['revenue'].isna()]"
   ]
  },
  {
   "cell_type": "markdown",
   "metadata": {},
   "source": [
    "##### Since they are Paid tickets,it is unlikely to have 0 revenue. We could either replace them by average revenue, average revenue by purchased date or easily removed them.In this case, we removed them directly."
   ]
  },
  {
   "cell_type": "code",
   "execution_count": 48,
   "metadata": {},
   "outputs": [],
   "source": [
    "df = df.dropna()"
   ]
  },
  {
   "cell_type": "code",
   "execution_count": 49,
   "metadata": {
    "scrolled": true
   },
   "outputs": [
    {
     "data": {
      "text/plain": [
       "date_purchased     object\n",
       "id_ticket           int64\n",
       "id_user             int64\n",
       "city_of_event       int64\n",
       "revenue           float64\n",
       "is_free_ticket       bool\n",
       "dtype: object"
      ]
     },
     "execution_count": 49,
     "metadata": {},
     "output_type": "execute_result"
    }
   ],
   "source": [
    "# check types\n",
    "df.dtypes"
   ]
  },
  {
   "cell_type": "markdown",
   "metadata": {},
   "source": [
    "#### Data Preparation:\n",
    "* step 1: We label users by timeline. One group is for users who registered after Oct 1st. The other is for users who had purchased records before Oct 1st. \n",
    "* step 2: We compare purchase behavior in two groups (descriptive)\n",
    "* step 3: Statistical analyse \n"
   ]
  },
  {
   "cell_type": "code",
   "execution_count": 50,
   "metadata": {},
   "outputs": [
    {
     "name": "stdout",
     "output_type": "stream",
     "text": [
      "Total 38927 users left this app before Oct 1st, and we kept 41272 users at this moment.\n"
     ]
    }
   ],
   "source": [
    "## firstly, we need to check whether some users stop using apps after Oct 1st, find them and remove from dataset\n",
    "user_last_purchased = df.groupby(['id_user']).aggregate({'date_purchased':'max'}).reset_index()\n",
    "user_removed = user_last_purchased[user_last_purchased['date_purchased']<'2019-10-01']['id_user']\n",
    "df = df[df['id_user'].isin(user_removed)==False]\n",
    "print ('Total {} users left this app before Oct 1st, and we kept {} users at this moment.'\\\n",
    "       .format(user_removed.shape[0],df['id_user'].nunique()))"
   ]
  },
  {
   "cell_type": "code",
   "execution_count": 51,
   "metadata": {},
   "outputs": [],
   "source": [
    "## secondly, we split current users into two groups: new/old registers\n",
    "user_first_purchased = df.groupby(['id_user']).aggregate({'date_purchased':'min'}).reset_index()\n",
    "#old_users = user_first_purchased[user_first_purchased['date_purchased']<'2019-10-01']['id_user']\n",
    "new_users = user_first_purchased[user_first_purchased['date_purchased']>='2019-10-01']['id_user']"
   ]
  },
  {
   "cell_type": "code",
   "execution_count": 52,
   "metadata": {},
   "outputs": [],
   "source": [
    "# We label them by Old=0 New= 1\n",
    "df['is_new_user'] = (df['id_user'].isin(new_users)==True).astype(int)"
   ]
  },
  {
   "cell_type": "code",
   "execution_count": 53,
   "metadata": {},
   "outputs": [],
   "source": [
    "# We concentrate on users behaviour after Oct 1st\n",
    "df['is_after_oct'] = (df['date_purchased']>='2019-10-01').astype(int)"
   ]
  },
  {
   "cell_type": "code",
   "execution_count": 54,
   "metadata": {},
   "outputs": [
    {
     "name": "stdout",
     "output_type": "stream",
     "text": [
      "We split activity users (after Oct 1st) into two groups, there are 31721 new users and 9551 are regular users\n"
     ]
    }
   ],
   "source": [
    "print ('We split activity users (after Oct 1st) into two groups, there are {} new users and {} are regular users'\\\n",
    "       .format(new_users.nunique(),(df['id_user'].nunique()-new_users.nunique())))"
   ]
  },
  {
   "cell_type": "code",
   "execution_count": 55,
   "metadata": {},
   "outputs": [],
   "source": [
    "df_2 = df.copy()"
   ]
  },
  {
   "cell_type": "code",
   "execution_count": 56,
   "metadata": {},
   "outputs": [],
   "source": [
    "# transform the time\n",
    "df_2['date_purchased'] = pd.to_datetime(df_2['date_purchased'])\n",
    "df_2['weekday'] = df_2['date_purchased'].dt.weekday_name\n",
    "df_2['month'] = df_2['date_purchased'].dt.month\n",
    "#df_2['day'] = df_2['date_purchased'].dt.day"
   ]
  },
  {
   "cell_type": "markdown",
   "metadata": {},
   "source": [
    "##### Comparing purchase behaviour \n",
    "* We compare the regular users purchase behavior before and after October, we assume those possible changes may benefit from/casued by loyalty programs.\n",
    "* We also compare the new users' consumption behavior to regular users' (after October 1st)."
   ]
  },
  {
   "cell_type": "code",
   "execution_count": 57,
   "metadata": {},
   "outputs": [
    {
     "data": {
      "image/png": "[encoded data removed]",
      "text/plain": [
       "<Figure size 864x504 with 3 Axes>"
      ]
     },
     "metadata": {},
     "output_type": "display_data"
    }
   ],
   "source": [
    "colors = ['goldenrod','slateblue']\n",
    "f,x = plt.subplots(1,3,figsize=(12,7))\n",
    "plt.subplot(1, 3, 1)\n",
    "x1 = df_2[(df_2['is_after_oct']==0)&(df_2['is_new_user']==0)]['is_free_ticket'].value_counts().sort_values()\n",
    "plt.pie(x1,colors = colors, startangle=90,autopct='%1.1f%%')\n",
    "plt.title('Regular Users Payment Rate before Oct')\n",
    "plt.subplot(1, 3, 2)\n",
    "x2 = df_2[(df_2['is_after_oct']==1)&(df_2['is_new_user']==0)]['is_free_ticket'].value_counts().sort_values()\n",
    "plt.pie(x2,colors = colors, startangle=90,autopct='%1.1f%%')\n",
    "plt.title('Regular Users After October')\n",
    "plt.legend(['Paid','Free'],loc='lower right')\n",
    "plt.subplot(1, 3, 3)\n",
    "x3 = df_2[df_2['is_new_user']==1]['is_free_ticket'].value_counts().sort_values()\n",
    "plt.pie(x3,startangle=90,autopct='%1.1f%%')\n",
    "plt.title('New Users Payment Rate')\n",
    "plt.legend(['Paid','Free'],loc='lower right')\n",
    "plt.show()"
   ]
  },
  {
   "cell_type": "markdown",
   "metadata": {},
   "source": [
    "##### Now, let s see how the revenue distributed."
   ]
  },
  {
   "cell_type": "code",
   "execution_count": 58,
   "metadata": {
    "scrolled": true
   },
   "outputs": [
    {
     "data": {
      "image/png": "[encoded data removed]",
      "text/plain": [
       "<Figure size 432x288 with 1 Axes>"
      ]
     },
     "metadata": {
      "needs_background": "light"
     },
     "output_type": "display_data"
    }
   ],
   "source": [
    "regular_revenue = df_2[df_2['is_new_user']==0].groupby(['month'])['revenue'].sum().reset_index()\n",
    "x = ['Aug','Sep','Oct']\n",
    "y = regular_revenue['revenue'].values.round(2)[:3]\n",
    "plt.bar(x, y, alpha=0.9, width = 0.35, facecolor = 'lightskyblue', edgecolor = 'white')\n",
    "plt.xticks(x)\n",
    "plt.title(\"Sales Revenues of Regular User Over Three Months\")\n",
    "plt.show()"
   ]
  },
  {
   "cell_type": "code",
   "execution_count": 59,
   "metadata": {
    "scrolled": true
   },
   "outputs": [
    {
     "data": {
      "image/png": "[encoded data removed]",
      "text/plain": [
       "<Figure size 720x360 with 1 Axes>"
      ]
     },
     "metadata": {
      "needs_background": "light"
     },
     "output_type": "display_data"
    }
   ],
   "source": [
    "plt.figure(figsize=(10,5))\n",
    "plt.plot(df_2[df_2['is_new_user']==0].groupby('date_purchased')['revenue'].sum(),'o-')\n",
    "plt.plot(df_2[df_2['is_new_user']==1].groupby('date_purchased')['revenue'].sum(),'o-')\n",
    "plt.axvline(x='2019-10-01', color='r', linestyle='-')\n",
    "plt.xlabel('Revenues Before/After Octocer 1st')\n",
    "plt.ylabel('Revenue By Users Types')\n",
    "plt.grid(True)\n",
    "plt.show()"
   ]
  },
  {
   "cell_type": "markdown",
   "metadata": {},
   "source": [
    "##### Weekdays "
   ]
  },
  {
   "cell_type": "code",
   "execution_count": 60,
   "metadata": {},
   "outputs": [],
   "source": [
    "# daily purchase for regular users\n",
    "purchaseFree = df_2[(df_2['is_new_user']==0)&(df_2['is_after_oct']==1)&(df_2['is_free_ticket']==True)].groupby('weekday')['id_user'].count()\n",
    "purchaseFree.name = 'free'\n",
    "purchasePaid = df_2[(df_2['is_new_user']==0)&(df_2['is_after_oct']==1)&(df_2['is_free_ticket']==False)].groupby('weekday')['id_user'].count()\n",
    "purchasePaid.name = 'paid'\n",
    "daily_purchase = pd.concat([purchaseFree,purchasePaid],axis=1)\n",
    "# daily purchase for new users \n",
    "new_purchaseFree = df_2[(df_2['is_new_user']==1)&(df_2['is_free_ticket']==True)].groupby('weekday')['id_user'].count()\n",
    "new_purchaseFree.name = 'free'\n",
    "new_purchasePaid = df_2[(df_2['is_new_user']==1)&(df_2['is_free_ticket']==False)].groupby('weekday')['id_user'].count()\n",
    "new_purchasePaid.name = 'paid'\n",
    "new_daily_purchase = pd.concat([new_purchaseFree,new_purchasePaid],axis=1)"
   ]
  },
  {
   "cell_type": "code",
   "execution_count": 61,
   "metadata": {},
   "outputs": [
    {
     "data": {
      "image/png": "[encoded data removed]",
      "text/plain": [
       "<Figure size 432x288 with 1 Axes>"
      ]
     },
     "metadata": {
      "needs_background": "light"
     },
     "output_type": "display_data"
    }
   ],
   "source": [
    "daily_purchase.sort_index(ascending=True).plot(kind='barh',label=u'free',grid=True)\n",
    "plt.title('How Many Regular Users Pay via Apps (in Weekdays)')\n",
    "plt.show()"
   ]
  },
  {
   "cell_type": "code",
   "execution_count": 62,
   "metadata": {},
   "outputs": [
    {
     "data": {
      "image/png": "[encoded data removed]",
      "text/plain": [
       "<Figure size 432x288 with 1 Axes>"
      ]
     },
     "metadata": {
      "needs_background": "light"
     },
     "output_type": "display_data"
    }
   ],
   "source": [
    "new_daily_purchase.sort_index(ascending=True).plot(kind='barh',label=u'free',grid=True)\n",
    "plt.title('How Much New Users Pay via Apps (in Weekdays)')\n",
    "plt.show()"
   ]
  },
  {
   "cell_type": "code",
   "execution_count": 63,
   "metadata": {},
   "outputs": [
    {
     "data": {
      "text/html": [
       "<div>\n",
       "<style scoped>\n",
       "    .dataframe tbody tr th:only-of-type {\n",
       "        vertical-align: middle;\n",
       "    }\n",
       "\n",
       "    .dataframe tbody tr th {\n",
       "        vertical-align: top;\n",
       "    }\n",
       "\n",
       "    .dataframe thead th {\n",
       "        text-align: right;\n",
       "    }\n",
       "</style>\n",
       "<table border=\"1\" class=\"dataframe\">\n",
       "  <thead>\n",
       "    <tr style=\"text-align: right;\">\n",
       "      <th></th>\n",
       "      <th>date_purchased</th>\n",
       "      <th>id_ticket</th>\n",
       "      <th>id_user</th>\n",
       "      <th>city_of_event</th>\n",
       "      <th>revenue</th>\n",
       "      <th>is_free_ticket</th>\n",
       "      <th>is_new_user</th>\n",
       "      <th>is_after_oct</th>\n",
       "      <th>weekday</th>\n",
       "      <th>month</th>\n",
       "    </tr>\n",
       "  </thead>\n",
       "  <tbody>\n",
       "    <tr>\n",
       "      <th>0</th>\n",
       "      <td>2019-09-21</td>\n",
       "      <td>13965092</td>\n",
       "      <td>39741238</td>\n",
       "      <td>5</td>\n",
       "      <td>0.0</td>\n",
       "      <td>True</td>\n",
       "      <td>0</td>\n",
       "      <td>0</td>\n",
       "      <td>Saturday</td>\n",
       "      <td>9</td>\n",
       "    </tr>\n",
       "    <tr>\n",
       "      <th>2</th>\n",
       "      <td>2019-10-20</td>\n",
       "      <td>14209374</td>\n",
       "      <td>36360650</td>\n",
       "      <td>5</td>\n",
       "      <td>0.0</td>\n",
       "      <td>True</td>\n",
       "      <td>0</td>\n",
       "      <td>1</td>\n",
       "      <td>Sunday</td>\n",
       "      <td>10</td>\n",
       "    </tr>\n",
       "    <tr>\n",
       "      <th>3</th>\n",
       "      <td>2019-10-22</td>\n",
       "      <td>14220595</td>\n",
       "      <td>44256387</td>\n",
       "      <td>5</td>\n",
       "      <td>0.0</td>\n",
       "      <td>True</td>\n",
       "      <td>1</td>\n",
       "      <td>1</td>\n",
       "      <td>Tuesday</td>\n",
       "      <td>10</td>\n",
       "    </tr>\n",
       "    <tr>\n",
       "      <th>4</th>\n",
       "      <td>2019-10-26</td>\n",
       "      <td>14248234</td>\n",
       "      <td>44272538</td>\n",
       "      <td>5</td>\n",
       "      <td>0.0</td>\n",
       "      <td>True</td>\n",
       "      <td>1</td>\n",
       "      <td>1</td>\n",
       "      <td>Saturday</td>\n",
       "      <td>10</td>\n",
       "    </tr>\n",
       "    <tr>\n",
       "      <th>5</th>\n",
       "      <td>2019-09-02</td>\n",
       "      <td>13839419</td>\n",
       "      <td>35925622</td>\n",
       "      <td>5</td>\n",
       "      <td>0.0</td>\n",
       "      <td>True</td>\n",
       "      <td>0</td>\n",
       "      <td>0</td>\n",
       "      <td>Monday</td>\n",
       "      <td>9</td>\n",
       "    </tr>\n",
       "  </tbody>\n",
       "</table>\n",
       "</div>"
      ],
      "text/plain": [
       "  date_purchased  id_ticket   id_user  city_of_event  revenue  is_free_ticket  \\\n",
       "0     2019-09-21   13965092  39741238              5      0.0            True   \n",
       "2     2019-10-20   14209374  36360650              5      0.0            True   \n",
       "3     2019-10-22   14220595  44256387              5      0.0            True   \n",
       "4     2019-10-26   14248234  44272538              5      0.0            True   \n",
       "5     2019-09-02   13839419  35925622              5      0.0            True   \n",
       "\n",
       "   is_new_user  is_after_oct   weekday  month  \n",
       "0            0             0  Saturday      9  \n",
       "2            0             1    Sunday     10  \n",
       "3            1             1   Tuesday     10  \n",
       "4            1             1  Saturday     10  \n",
       "5            0             0    Monday      9  "
      ]
     },
     "execution_count": 63,
     "metadata": {},
     "output_type": "execute_result"
    }
   ],
   "source": [
    "df_2.head()"
   ]
  },
  {
   "cell_type": "markdown",
   "metadata": {},
   "source": [
    "#### Event City"
   ]
  },
  {
   "cell_type": "code",
   "execution_count": 64,
   "metadata": {},
   "outputs": [
    {
     "data": {
      "image/png": "[encoded data removed]",
      "text/plain": [
       "<Figure size 720x504 with 2 Axes>"
      ]
     },
     "metadata": {},
     "output_type": "display_data"
    }
   ],
   "source": [
    "f,x = plt.subplots(1,3,figsize=(10,7))\n",
    "colors = ['#e6f2ff','#99ccff','#ccccff','#cc99ff']\n",
    "counts_reg = df_2[(df_2['is_new_user']==0)&(df_2['is_after_oct']==1)].groupby(['is_free_ticket'])['city_of_event'].value_counts(sort=True)\n",
    "\n",
    "def cha_autopct(pct):\n",
    "    return ('%.2f' % pct) if pct > 5 else ''\n",
    "plt.subplot(1, 2, 1)\n",
    "plt.pie(counts_reg,startangle=90,autopct=cha_autopct,colors=colors)\n",
    "plt.title('Regular User:Paid/Free Ticket Amount in City 5/ 6')\n",
    "\n",
    "plt.subplot(1, 2, 2)\n",
    "labels = ['Paid_ticket/City 5','Paid_ticket/City 6','Free/City 5','Free/City 6']\n",
    "counts_new = df_2[df_2['is_new_user']==1].groupby(['is_free_ticket'])['city_of_event'].value_counts(sort=True)\n",
    "plt.pie(counts_new,startangle=90,autopct='%1.2f%%',colors=colors)\n",
    "plt.title('New User:Paid/Free Ticket Amount in City 5/ 6')\n",
    "plt.legend(labels,loc=6,bbox_to_anchor=(1.05,1.0),borderaxespad = 1.)\n",
    "plt.show()\n",
    "\n"
   ]
  },
  {
   "cell_type": "code",
   "execution_count": 65,
   "metadata": {
    "scrolled": true
   },
   "outputs": [
    {
     "data": {
      "text/plain": [
       "is_free_ticket  city_of_event\n",
       "False           5                  9524\n",
       "                6                  1128\n",
       "True            5                106949\n",
       "                6                   519\n",
       "Name: city_of_event, dtype: int64"
      ]
     },
     "execution_count": 65,
     "metadata": {},
     "output_type": "execute_result"
    }
   ],
   "source": [
    "counts_reg"
   ]
  },
  {
   "cell_type": "code",
   "execution_count": 66,
   "metadata": {},
   "outputs": [
    {
     "data": {
      "text/plain": [
       "is_free_ticket  city_of_event\n",
       "False           5                19827\n",
       "                6                 8439\n",
       "True            5                22866\n",
       "                6                 1806\n",
       "Name: city_of_event, dtype: int64"
      ]
     },
     "execution_count": 66,
     "metadata": {},
     "output_type": "execute_result"
    }
   ],
   "source": [
    "counts_new"
   ]
  },
  {
   "cell_type": "markdown",
   "metadata": {},
   "source": [
    "#### But we did not consider other possible reasons may motivate new users purchase more, such as new register coupons and so on."
   ]
  },
  {
   "cell_type": "code",
   "execution_count": null,
   "metadata": {},
   "outputs": [],
   "source": []
  },
  {
   "cell_type": "markdown",
   "metadata": {},
   "source": [
    "##### Statistical Analysis"
   ]
  },
  {
   "cell_type": "code",
   "execution_count": 67,
   "metadata": {},
   "outputs": [],
   "source": [
    "# Reorganize dataset by key information only\n",
    "df_3 = df_2.copy()\n",
    "# prepare dummy var\n",
    "df_3 = df_3.join(pd.get_dummies(df_3['is_free_ticket']))\n",
    "df_3.rename(columns={False:'Paid_ticket',True:'Free_ticket'},inplace=True)"
   ]
  },
  {
   "cell_type": "code",
   "execution_count": 68,
   "metadata": {},
   "outputs": [],
   "source": [
    "# remove historical records before Oct\n",
    "df_3 = df_3[df_3['is_after_oct']==1]"
   ]
  },
  {
   "cell_type": "code",
   "execution_count": 69,
   "metadata": {},
   "outputs": [],
   "source": [
    "# transform by aggragate USERS'PURCHASE by date\n",
    "df_3 = df_3.groupby(['id_user']).aggregate({'id_ticket':'count','revenue':'sum','Paid_ticket':'sum','Free_ticket':'sum'}).reset_index()"
   ]
  },
  {
   "cell_type": "code",
   "execution_count": 70,
   "metadata": {
    "scrolled": true
   },
   "outputs": [],
   "source": [
    "df_3.rename(columns={'id_ticket':'id_ticket_amount'},inplace=True)\n",
    "df_3['Ratio_of_Paid'] = df_3['Paid_ticket']/(df_3['id_ticket_amount'])\n",
    "df_3['id_revenue'] = df_3['revenue']/df_3['id_ticket_amount']\n",
    "df_3['is_new_user'] = (df_3['id_user'].isin(new_users)==True).astype(int)"
   ]
  },
  {
   "cell_type": "code",
   "execution_count": 71,
   "metadata": {
    "scrolled": true
   },
   "outputs": [
    {
     "data": {
      "text/html": [
       "<div>\n",
       "<style scoped>\n",
       "    .dataframe tbody tr th:only-of-type {\n",
       "        vertical-align: middle;\n",
       "    }\n",
       "\n",
       "    .dataframe tbody tr th {\n",
       "        vertical-align: top;\n",
       "    }\n",
       "\n",
       "    .dataframe thead th {\n",
       "        text-align: right;\n",
       "    }\n",
       "</style>\n",
       "<table border=\"1\" class=\"dataframe\">\n",
       "  <thead>\n",
       "    <tr style=\"text-align: right;\">\n",
       "      <th></th>\n",
       "      <th>id_user</th>\n",
       "      <th>id_ticket_amount</th>\n",
       "      <th>revenue</th>\n",
       "      <th>Paid_ticket</th>\n",
       "      <th>Free_ticket</th>\n",
       "      <th>Ratio_of_Paid</th>\n",
       "      <th>id_revenue</th>\n",
       "      <th>is_new_user</th>\n",
       "    </tr>\n",
       "  </thead>\n",
       "  <tbody>\n",
       "    <tr>\n",
       "      <th>0</th>\n",
       "      <td>242</td>\n",
       "      <td>1</td>\n",
       "      <td>0.000000</td>\n",
       "      <td>0</td>\n",
       "      <td>1</td>\n",
       "      <td>0.0</td>\n",
       "      <td>0.000000</td>\n",
       "      <td>1</td>\n",
       "    </tr>\n",
       "    <tr>\n",
       "      <th>1</th>\n",
       "      <td>578</td>\n",
       "      <td>2</td>\n",
       "      <td>244.178955</td>\n",
       "      <td>2</td>\n",
       "      <td>0</td>\n",
       "      <td>1.0</td>\n",
       "      <td>122.089477</td>\n",
       "      <td>0</td>\n",
       "    </tr>\n",
       "    <tr>\n",
       "      <th>2</th>\n",
       "      <td>1817</td>\n",
       "      <td>1</td>\n",
       "      <td>0.000000</td>\n",
       "      <td>0</td>\n",
       "      <td>1</td>\n",
       "      <td>0.0</td>\n",
       "      <td>0.000000</td>\n",
       "      <td>0</td>\n",
       "    </tr>\n",
       "    <tr>\n",
       "      <th>3</th>\n",
       "      <td>3658</td>\n",
       "      <td>1</td>\n",
       "      <td>4.334950</td>\n",
       "      <td>1</td>\n",
       "      <td>0</td>\n",
       "      <td>1.0</td>\n",
       "      <td>4.334950</td>\n",
       "      <td>1</td>\n",
       "    </tr>\n",
       "    <tr>\n",
       "      <th>4</th>\n",
       "      <td>4442</td>\n",
       "      <td>1</td>\n",
       "      <td>29.509380</td>\n",
       "      <td>1</td>\n",
       "      <td>0</td>\n",
       "      <td>1.0</td>\n",
       "      <td>29.509380</td>\n",
       "      <td>1</td>\n",
       "    </tr>\n",
       "  </tbody>\n",
       "</table>\n",
       "</div>"
      ],
      "text/plain": [
       "   id_user  id_ticket_amount     revenue  Paid_ticket  Free_ticket  \\\n",
       "0      242                 1    0.000000            0            1   \n",
       "1      578                 2  244.178955            2            0   \n",
       "2     1817                 1    0.000000            0            1   \n",
       "3     3658                 1    4.334950            1            0   \n",
       "4     4442                 1   29.509380            1            0   \n",
       "\n",
       "   Ratio_of_Paid  id_revenue  is_new_user  \n",
       "0            0.0    0.000000            1  \n",
       "1            1.0  122.089477            0  \n",
       "2            0.0    0.000000            0  \n",
       "3            1.0    4.334950            1  \n",
       "4            1.0   29.509380            1  "
      ]
     },
     "execution_count": 71,
     "metadata": {},
     "output_type": "execute_result"
    }
   ],
   "source": [
    "df_3.head()"
   ]
  },
  {
   "cell_type": "markdown",
   "metadata": {},
   "source": [
    "##### Who bought more"
   ]
  },
  {
   "cell_type": "code",
   "execution_count": 72,
   "metadata": {},
   "outputs": [
    {
     "data": {
      "text/html": [
       "<div>\n",
       "<style scoped>\n",
       "    .dataframe tbody tr th:only-of-type {\n",
       "        vertical-align: middle;\n",
       "    }\n",
       "\n",
       "    .dataframe tbody tr th {\n",
       "        vertical-align: top;\n",
       "    }\n",
       "\n",
       "    .dataframe thead th {\n",
       "        text-align: right;\n",
       "    }\n",
       "</style>\n",
       "<table border=\"1\" class=\"dataframe\">\n",
       "  <thead>\n",
       "    <tr style=\"text-align: right;\">\n",
       "      <th></th>\n",
       "      <th>id_user</th>\n",
       "      <th>id_ticket_amount</th>\n",
       "      <th>revenue</th>\n",
       "      <th>Paid_ticket</th>\n",
       "      <th>Free_ticket</th>\n",
       "      <th>Ratio_of_Paid</th>\n",
       "      <th>id_revenue</th>\n",
       "      <th>is_new_user</th>\n",
       "    </tr>\n",
       "  </thead>\n",
       "  <tbody>\n",
       "    <tr>\n",
       "      <th>16224</th>\n",
       "      <td>42702677</td>\n",
       "      <td>110</td>\n",
       "      <td>4184.835901</td>\n",
       "      <td>110</td>\n",
       "      <td>0</td>\n",
       "      <td>1.0</td>\n",
       "      <td>38.043963</td>\n",
       "      <td>0</td>\n",
       "    </tr>\n",
       "  </tbody>\n",
       "</table>\n",
       "</div>"
      ],
      "text/plain": [
       "        id_user  id_ticket_amount      revenue  Paid_ticket  Free_ticket  \\\n",
       "16224  42702677               110  4184.835901          110            0   \n",
       "\n",
       "       Ratio_of_Paid  id_revenue  is_new_user  \n",
       "16224            1.0   38.043963            0  "
      ]
     },
     "execution_count": 72,
     "metadata": {},
     "output_type": "execute_result"
    }
   ],
   "source": [
    "df_3[df_3['Paid_ticket']==df_3['Paid_ticket'].max()]"
   ]
  },
  {
   "cell_type": "code",
   "execution_count": 73,
   "metadata": {},
   "outputs": [
    {
     "data": {
      "text/html": [
       "<div>\n",
       "<style scoped>\n",
       "    .dataframe tbody tr th:only-of-type {\n",
       "        vertical-align: middle;\n",
       "    }\n",
       "\n",
       "    .dataframe tbody tr th {\n",
       "        vertical-align: top;\n",
       "    }\n",
       "\n",
       "    .dataframe thead th {\n",
       "        text-align: right;\n",
       "    }\n",
       "</style>\n",
       "<table border=\"1\" class=\"dataframe\">\n",
       "  <thead>\n",
       "    <tr style=\"text-align: right;\">\n",
       "      <th></th>\n",
       "      <th>id_user</th>\n",
       "      <th>id_ticket_amount</th>\n",
       "      <th>revenue</th>\n",
       "      <th>Paid_ticket</th>\n",
       "      <th>Free_ticket</th>\n",
       "      <th>Ratio_of_Paid</th>\n",
       "      <th>id_revenue</th>\n",
       "      <th>is_new_user</th>\n",
       "    </tr>\n",
       "  </thead>\n",
       "  <tbody>\n",
       "    <tr>\n",
       "      <th>16224</th>\n",
       "      <td>42702677</td>\n",
       "      <td>110</td>\n",
       "      <td>4184.835901</td>\n",
       "      <td>110</td>\n",
       "      <td>0</td>\n",
       "      <td>1.000000</td>\n",
       "      <td>38.043963</td>\n",
       "      <td>0</td>\n",
       "    </tr>\n",
       "    <tr>\n",
       "      <th>15230</th>\n",
       "      <td>42460245</td>\n",
       "      <td>32</td>\n",
       "      <td>604.818906</td>\n",
       "      <td>29</td>\n",
       "      <td>3</td>\n",
       "      <td>0.906250</td>\n",
       "      <td>18.900591</td>\n",
       "      <td>0</td>\n",
       "    </tr>\n",
       "    <tr>\n",
       "      <th>26597</th>\n",
       "      <td>44177513</td>\n",
       "      <td>28</td>\n",
       "      <td>616.267073</td>\n",
       "      <td>28</td>\n",
       "      <td>0</td>\n",
       "      <td>1.000000</td>\n",
       "      <td>22.009538</td>\n",
       "      <td>1</td>\n",
       "    </tr>\n",
       "    <tr>\n",
       "      <th>12718</th>\n",
       "      <td>41696748</td>\n",
       "      <td>24</td>\n",
       "      <td>947.563278</td>\n",
       "      <td>24</td>\n",
       "      <td>0</td>\n",
       "      <td>1.000000</td>\n",
       "      <td>39.481803</td>\n",
       "      <td>0</td>\n",
       "    </tr>\n",
       "    <tr>\n",
       "      <th>17767</th>\n",
       "      <td>43087898</td>\n",
       "      <td>25</td>\n",
       "      <td>340.786482</td>\n",
       "      <td>24</td>\n",
       "      <td>1</td>\n",
       "      <td>0.960000</td>\n",
       "      <td>13.631459</td>\n",
       "      <td>0</td>\n",
       "    </tr>\n",
       "    <tr>\n",
       "      <th>394</th>\n",
       "      <td>9635343</td>\n",
       "      <td>24</td>\n",
       "      <td>192.216349</td>\n",
       "      <td>23</td>\n",
       "      <td>1</td>\n",
       "      <td>0.958333</td>\n",
       "      <td>8.009015</td>\n",
       "      <td>0</td>\n",
       "    </tr>\n",
       "    <tr>\n",
       "      <th>28697</th>\n",
       "      <td>44200840</td>\n",
       "      <td>23</td>\n",
       "      <td>1893.718609</td>\n",
       "      <td>23</td>\n",
       "      <td>0</td>\n",
       "      <td>1.000000</td>\n",
       "      <td>82.335592</td>\n",
       "      <td>1</td>\n",
       "    </tr>\n",
       "    <tr>\n",
       "      <th>348</th>\n",
       "      <td>7718547</td>\n",
       "      <td>24</td>\n",
       "      <td>336.192782</td>\n",
       "      <td>22</td>\n",
       "      <td>2</td>\n",
       "      <td>0.916667</td>\n",
       "      <td>14.008033</td>\n",
       "      <td>0</td>\n",
       "    </tr>\n",
       "    <tr>\n",
       "      <th>14212</th>\n",
       "      <td>42211235</td>\n",
       "      <td>23</td>\n",
       "      <td>203.355855</td>\n",
       "      <td>22</td>\n",
       "      <td>1</td>\n",
       "      <td>0.956522</td>\n",
       "      <td>8.841559</td>\n",
       "      <td>0</td>\n",
       "    </tr>\n",
       "    <tr>\n",
       "      <th>18442</th>\n",
       "      <td>43191427</td>\n",
       "      <td>27</td>\n",
       "      <td>626.485877</td>\n",
       "      <td>22</td>\n",
       "      <td>5</td>\n",
       "      <td>0.814815</td>\n",
       "      <td>23.203181</td>\n",
       "      <td>0</td>\n",
       "    </tr>\n",
       "  </tbody>\n",
       "</table>\n",
       "</div>"
      ],
      "text/plain": [
       "        id_user  id_ticket_amount      revenue  Paid_ticket  Free_ticket  \\\n",
       "16224  42702677               110  4184.835901          110            0   \n",
       "15230  42460245                32   604.818906           29            3   \n",
       "26597  44177513                28   616.267073           28            0   \n",
       "12718  41696748                24   947.563278           24            0   \n",
       "17767  43087898                25   340.786482           24            1   \n",
       "394     9635343                24   192.216349           23            1   \n",
       "28697  44200840                23  1893.718609           23            0   \n",
       "348     7718547                24   336.192782           22            2   \n",
       "14212  42211235                23   203.355855           22            1   \n",
       "18442  43191427                27   626.485877           22            5   \n",
       "\n",
       "       Ratio_of_Paid  id_revenue  is_new_user  \n",
       "16224       1.000000   38.043963            0  \n",
       "15230       0.906250   18.900591            0  \n",
       "26597       1.000000   22.009538            1  \n",
       "12718       1.000000   39.481803            0  \n",
       "17767       0.960000   13.631459            0  \n",
       "394         0.958333    8.009015            0  \n",
       "28697       1.000000   82.335592            1  \n",
       "348         0.916667   14.008033            0  \n",
       "14212       0.956522    8.841559            0  \n",
       "18442       0.814815   23.203181            0  "
      ]
     },
     "execution_count": 73,
     "metadata": {},
     "output_type": "execute_result"
    }
   ],
   "source": [
    "# all users, who bought more\n",
    "df_3.nlargest(10, 'Paid_ticket')"
   ]
  },
  {
   "cell_type": "code",
   "execution_count": 74,
   "metadata": {},
   "outputs": [
    {
     "data": {
      "text/html": [
       "<div>\n",
       "<style scoped>\n",
       "    .dataframe tbody tr th:only-of-type {\n",
       "        vertical-align: middle;\n",
       "    }\n",
       "\n",
       "    .dataframe tbody tr th {\n",
       "        vertical-align: top;\n",
       "    }\n",
       "\n",
       "    .dataframe thead th {\n",
       "        text-align: right;\n",
       "    }\n",
       "</style>\n",
       "<table border=\"1\" class=\"dataframe\">\n",
       "  <thead>\n",
       "    <tr style=\"text-align: right;\">\n",
       "      <th></th>\n",
       "      <th>id_user</th>\n",
       "      <th>id_ticket_amount</th>\n",
       "      <th>revenue</th>\n",
       "      <th>Paid_ticket</th>\n",
       "      <th>Free_ticket</th>\n",
       "      <th>Ratio_of_Paid</th>\n",
       "      <th>id_revenue</th>\n",
       "      <th>is_new_user</th>\n",
       "    </tr>\n",
       "  </thead>\n",
       "  <tbody>\n",
       "    <tr>\n",
       "      <th>16224</th>\n",
       "      <td>42702677</td>\n",
       "      <td>110</td>\n",
       "      <td>4184.835901</td>\n",
       "      <td>110</td>\n",
       "      <td>0</td>\n",
       "      <td>1.000000</td>\n",
       "      <td>38.043963</td>\n",
       "      <td>0</td>\n",
       "    </tr>\n",
       "    <tr>\n",
       "      <th>28697</th>\n",
       "      <td>44200840</td>\n",
       "      <td>23</td>\n",
       "      <td>1893.718609</td>\n",
       "      <td>23</td>\n",
       "      <td>0</td>\n",
       "      <td>1.000000</td>\n",
       "      <td>82.335592</td>\n",
       "      <td>1</td>\n",
       "    </tr>\n",
       "    <tr>\n",
       "      <th>22201</th>\n",
       "      <td>43842865</td>\n",
       "      <td>16</td>\n",
       "      <td>1792.806900</td>\n",
       "      <td>14</td>\n",
       "      <td>2</td>\n",
       "      <td>0.875000</td>\n",
       "      <td>112.050431</td>\n",
       "      <td>0</td>\n",
       "    </tr>\n",
       "    <tr>\n",
       "      <th>32428</th>\n",
       "      <td>44240970</td>\n",
       "      <td>5</td>\n",
       "      <td>1461.283573</td>\n",
       "      <td>5</td>\n",
       "      <td>0</td>\n",
       "      <td>1.000000</td>\n",
       "      <td>292.256715</td>\n",
       "      <td>1</td>\n",
       "    </tr>\n",
       "    <tr>\n",
       "      <th>726</th>\n",
       "      <td>19387117</td>\n",
       "      <td>14</td>\n",
       "      <td>1354.095362</td>\n",
       "      <td>13</td>\n",
       "      <td>1</td>\n",
       "      <td>0.928571</td>\n",
       "      <td>96.721097</td>\n",
       "      <td>0</td>\n",
       "    </tr>\n",
       "    <tr>\n",
       "      <th>38996</th>\n",
       "      <td>44288753</td>\n",
       "      <td>1</td>\n",
       "      <td>1058.210860</td>\n",
       "      <td>1</td>\n",
       "      <td>0</td>\n",
       "      <td>1.000000</td>\n",
       "      <td>1058.210860</td>\n",
       "      <td>1</td>\n",
       "    </tr>\n",
       "    <tr>\n",
       "      <th>23533</th>\n",
       "      <td>44066723</td>\n",
       "      <td>12</td>\n",
       "      <td>1051.202958</td>\n",
       "      <td>12</td>\n",
       "      <td>0</td>\n",
       "      <td>1.000000</td>\n",
       "      <td>87.600246</td>\n",
       "      <td>0</td>\n",
       "    </tr>\n",
       "    <tr>\n",
       "      <th>12718</th>\n",
       "      <td>41696748</td>\n",
       "      <td>24</td>\n",
       "      <td>947.563278</td>\n",
       "      <td>24</td>\n",
       "      <td>0</td>\n",
       "      <td>1.000000</td>\n",
       "      <td>39.481803</td>\n",
       "      <td>0</td>\n",
       "    </tr>\n",
       "    <tr>\n",
       "      <th>2030</th>\n",
       "      <td>35318060</td>\n",
       "      <td>22</td>\n",
       "      <td>914.883192</td>\n",
       "      <td>19</td>\n",
       "      <td>3</td>\n",
       "      <td>0.863636</td>\n",
       "      <td>41.585600</td>\n",
       "      <td>0</td>\n",
       "    </tr>\n",
       "    <tr>\n",
       "      <th>31218</th>\n",
       "      <td>44230178</td>\n",
       "      <td>1</td>\n",
       "      <td>846.815985</td>\n",
       "      <td>1</td>\n",
       "      <td>0</td>\n",
       "      <td>1.000000</td>\n",
       "      <td>846.815985</td>\n",
       "      <td>1</td>\n",
       "    </tr>\n",
       "  </tbody>\n",
       "</table>\n",
       "</div>"
      ],
      "text/plain": [
       "        id_user  id_ticket_amount      revenue  Paid_ticket  Free_ticket  \\\n",
       "16224  42702677               110  4184.835901          110            0   \n",
       "28697  44200840                23  1893.718609           23            0   \n",
       "22201  43842865                16  1792.806900           14            2   \n",
       "32428  44240970                 5  1461.283573            5            0   \n",
       "726    19387117                14  1354.095362           13            1   \n",
       "38996  44288753                 1  1058.210860            1            0   \n",
       "23533  44066723                12  1051.202958           12            0   \n",
       "12718  41696748                24   947.563278           24            0   \n",
       "2030   35318060                22   914.883192           19            3   \n",
       "31218  44230178                 1   846.815985            1            0   \n",
       "\n",
       "       Ratio_of_Paid   id_revenue  is_new_user  \n",
       "16224       1.000000    38.043963            0  \n",
       "28697       1.000000    82.335592            1  \n",
       "22201       0.875000   112.050431            0  \n",
       "32428       1.000000   292.256715            1  \n",
       "726         0.928571    96.721097            0  \n",
       "38996       1.000000  1058.210860            1  \n",
       "23533       1.000000    87.600246            0  \n",
       "12718       1.000000    39.481803            0  \n",
       "2030        0.863636    41.585600            0  \n",
       "31218       1.000000   846.815985            1  "
      ]
     },
     "execution_count": 74,
     "metadata": {},
     "output_type": "execute_result"
    }
   ],
   "source": [
    "# all users, who bought more\n",
    "df_3.nlargest(10, 'revenue')"
   ]
  },
  {
   "cell_type": "markdown",
   "metadata": {},
   "source": [
    "#### Test in Regular User Group and New Unser Group\n",
    "* We aim to test whether the revenues remain the same in each group"
   ]
  },
  {
   "cell_type": "code",
   "execution_count": 75,
   "metadata": {},
   "outputs": [
    {
     "data": {
      "text/html": [
       "<div>\n",
       "<style scoped>\n",
       "    .dataframe tbody tr th:only-of-type {\n",
       "        vertical-align: middle;\n",
       "    }\n",
       "\n",
       "    .dataframe tbody tr th {\n",
       "        vertical-align: top;\n",
       "    }\n",
       "\n",
       "    .dataframe thead th {\n",
       "        text-align: right;\n",
       "    }\n",
       "</style>\n",
       "<table border=\"1\" class=\"dataframe\">\n",
       "  <thead>\n",
       "    <tr style=\"text-align: right;\">\n",
       "      <th></th>\n",
       "      <th>is_new_user</th>\n",
       "      <th>count</th>\n",
       "      <th>mean</th>\n",
       "      <th>std</th>\n",
       "      <th>min</th>\n",
       "      <th>25%</th>\n",
       "      <th>50%</th>\n",
       "      <th>75%</th>\n",
       "      <th>max</th>\n",
       "    </tr>\n",
       "  </thead>\n",
       "  <tbody>\n",
       "    <tr>\n",
       "      <th>0</th>\n",
       "      <td>0</td>\n",
       "      <td>9551.0</td>\n",
       "      <td>21.095595</td>\n",
       "      <td>63.965278</td>\n",
       "      <td>0.0</td>\n",
       "      <td>0.0</td>\n",
       "      <td>9.353568</td>\n",
       "      <td>24.956045</td>\n",
       "      <td>4184.835901</td>\n",
       "    </tr>\n",
       "    <tr>\n",
       "      <th>1</th>\n",
       "      <td>1</td>\n",
       "      <td>31721.0</td>\n",
       "      <td>21.650232</td>\n",
       "      <td>34.461780</td>\n",
       "      <td>0.0</td>\n",
       "      <td>0.0</td>\n",
       "      <td>13.122158</td>\n",
       "      <td>28.208937</td>\n",
       "      <td>1893.718609</td>\n",
       "    </tr>\n",
       "  </tbody>\n",
       "</table>\n",
       "</div>"
      ],
      "text/plain": [
       "   is_new_user    count       mean        std  min  25%        50%        75%  \\\n",
       "0            0   9551.0  21.095595  63.965278  0.0  0.0   9.353568  24.956045   \n",
       "1            1  31721.0  21.650232  34.461780  0.0  0.0  13.122158  28.208937   \n",
       "\n",
       "           max  \n",
       "0  4184.835901  \n",
       "1  1893.718609  "
      ]
     },
     "execution_count": 75,
     "metadata": {},
     "output_type": "execute_result"
    }
   ],
   "source": [
    "# Stats of Revenue \n",
    "revenue_stats = df_3.groupby('is_new_user')['revenue'].describe().reset_index()\n",
    "revenue_stats"
   ]
  },
  {
   "cell_type": "code",
   "execution_count": 76,
   "metadata": {},
   "outputs": [
    {
     "data": {
      "text/html": [
       "<div>\n",
       "<style scoped>\n",
       "    .dataframe tbody tr th:only-of-type {\n",
       "        vertical-align: middle;\n",
       "    }\n",
       "\n",
       "    .dataframe tbody tr th {\n",
       "        vertical-align: top;\n",
       "    }\n",
       "\n",
       "    .dataframe thead th {\n",
       "        text-align: right;\n",
       "    }\n",
       "</style>\n",
       "<table border=\"1\" class=\"dataframe\">\n",
       "  <thead>\n",
       "    <tr style=\"text-align: right;\">\n",
       "      <th></th>\n",
       "      <th>is_new_user</th>\n",
       "      <th>count</th>\n",
       "      <th>mean</th>\n",
       "      <th>std</th>\n",
       "      <th>min</th>\n",
       "      <th>25%</th>\n",
       "      <th>50%</th>\n",
       "      <th>75%</th>\n",
       "      <th>max</th>\n",
       "    </tr>\n",
       "  </thead>\n",
       "  <tbody>\n",
       "    <tr>\n",
       "      <th>0</th>\n",
       "      <td>0</td>\n",
       "      <td>9551.0</td>\n",
       "      <td>9.056937</td>\n",
       "      <td>16.665214</td>\n",
       "      <td>0.0</td>\n",
       "      <td>0.0</td>\n",
       "      <td>1.431854</td>\n",
       "      <td>13.231430</td>\n",
       "      <td>325.448279</td>\n",
       "    </tr>\n",
       "    <tr>\n",
       "      <th>1</th>\n",
       "      <td>1</td>\n",
       "      <td>31721.0</td>\n",
       "      <td>18.005348</td>\n",
       "      <td>25.595834</td>\n",
       "      <td>0.0</td>\n",
       "      <td>0.0</td>\n",
       "      <td>11.517524</td>\n",
       "      <td>23.272745</td>\n",
       "      <td>1058.210860</td>\n",
       "    </tr>\n",
       "  </tbody>\n",
       "</table>\n",
       "</div>"
      ],
      "text/plain": [
       "   is_new_user    count       mean        std  min  25%        50%        75%  \\\n",
       "0            0   9551.0   9.056937  16.665214  0.0  0.0   1.431854  13.231430   \n",
       "1            1  31721.0  18.005348  25.595834  0.0  0.0  11.517524  23.272745   \n",
       "\n",
       "           max  \n",
       "0   325.448279  \n",
       "1  1058.210860  "
      ]
     },
     "execution_count": 76,
     "metadata": {},
     "output_type": "execute_result"
    }
   ],
   "source": [
    "# Stats of Id_revenue \n",
    "id_revenue_stats = df_3.groupby('is_new_user')['id_revenue'].describe().reset_index()\n",
    "id_revenue_stats"
   ]
  },
  {
   "cell_type": "code",
   "execution_count": 77,
   "metadata": {
    "scrolled": true
   },
   "outputs": [
    {
     "data": {
      "text/html": [
       "<div>\n",
       "<style scoped>\n",
       "    .dataframe tbody tr th:only-of-type {\n",
       "        vertical-align: middle;\n",
       "    }\n",
       "\n",
       "    .dataframe tbody tr th {\n",
       "        vertical-align: top;\n",
       "    }\n",
       "\n",
       "    .dataframe thead th {\n",
       "        text-align: right;\n",
       "    }\n",
       "</style>\n",
       "<table border=\"1\" class=\"dataframe\">\n",
       "  <thead>\n",
       "    <tr style=\"text-align: right;\">\n",
       "      <th></th>\n",
       "      <th>is_new_user</th>\n",
       "      <th>count</th>\n",
       "      <th>mean</th>\n",
       "      <th>std</th>\n",
       "      <th>min</th>\n",
       "      <th>25%</th>\n",
       "      <th>50%</th>\n",
       "      <th>75%</th>\n",
       "      <th>max</th>\n",
       "    </tr>\n",
       "  </thead>\n",
       "  <tbody>\n",
       "    <tr>\n",
       "      <th>0</th>\n",
       "      <td>0</td>\n",
       "      <td>9551.0</td>\n",
       "      <td>0.458521</td>\n",
       "      <td>0.476758</td>\n",
       "      <td>0.0</td>\n",
       "      <td>0.0</td>\n",
       "      <td>0.097561</td>\n",
       "      <td>1.0</td>\n",
       "      <td>1.0</td>\n",
       "    </tr>\n",
       "    <tr>\n",
       "      <th>1</th>\n",
       "      <td>1</td>\n",
       "      <td>31721.0</td>\n",
       "      <td>0.719825</td>\n",
       "      <td>0.441541</td>\n",
       "      <td>0.0</td>\n",
       "      <td>0.0</td>\n",
       "      <td>1.000000</td>\n",
       "      <td>1.0</td>\n",
       "      <td>1.0</td>\n",
       "    </tr>\n",
       "  </tbody>\n",
       "</table>\n",
       "</div>"
      ],
      "text/plain": [
       "   is_new_user    count      mean       std  min  25%       50%  75%  max\n",
       "0            0   9551.0  0.458521  0.476758  0.0  0.0  0.097561  1.0  1.0\n",
       "1            1  31721.0  0.719825  0.441541  0.0  0.0  1.000000  1.0  1.0"
      ]
     },
     "execution_count": 77,
     "metadata": {},
     "output_type": "execute_result"
    }
   ],
   "source": [
    "# Stats of Ratio of Paid\n",
    "ratio_stats = df_3.groupby('is_new_user')['Ratio_of_Paid'].describe().reset_index()\n",
    "ratio_stats"
   ]
  },
  {
   "cell_type": "code",
   "execution_count": null,
   "metadata": {},
   "outputs": [],
   "source": []
  },
  {
   "cell_type": "markdown",
   "metadata": {},
   "source": [
    "* NUll: revenue in regual groups equal to revenue in new groups\n",
    "* ALTER: not equal"
   ]
  },
  {
   "cell_type": "code",
   "execution_count": 78,
   "metadata": {},
   "outputs": [],
   "source": [
    "re_usr = df_3[df_3['is_new_user']==0]\n",
    "new_usr = df_3[df_3['is_new_user']==1]#.sample(re_usr.shape[0])"
   ]
  },
  {
   "cell_type": "code",
   "execution_count": 79,
   "metadata": {},
   "outputs": [
    {
     "name": "stdout",
     "output_type": "stream",
     "text": [
      "z-score: -1.1019698757432312 ，p-value: 0.27047476822881633\n"
     ]
    }
   ],
   "source": [
    "import statsmodels.stats.weightstats as sw\n",
    "re_usr1 = re_usr['revenue']\n",
    "new_usr1 = new_usr['revenue']\n",
    "z_score, p_value = sw.ztest(re_usr1, new_usr1, alternative='two-sided')\n",
    "print('z-score:', z_score, '，p-value:', p_value)"
   ]
  },
  {
   "cell_type": "code",
   "execution_count": 80,
   "metadata": {},
   "outputs": [
    {
     "name": "stdout",
     "output_type": "stream",
     "text": [
      "z-score: -32.174665991789425 ，p-value: 3.992093884605979e-227\n"
     ]
    }
   ],
   "source": [
    "re_usr2 = re_usr['id_revenue']\n",
    "new_usr2 = new_usr['id_revenue']\n",
    "import statsmodels.stats.weightstats as sw\n",
    "z_score2, p_value2 = sw.ztest(re_usr2, new_usr2,alternative='two-sided')\n",
    "print('z-score:', z_score2, '，p-value:', p_value2)"
   ]
  },
  {
   "cell_type": "markdown",
   "metadata": {},
   "source": [
    "#### Conclusion: \"id_revenue\" is significant"
   ]
  },
  {
   "cell_type": "code",
   "execution_count": null,
   "metadata": {},
   "outputs": [],
   "source": []
  },
  {
   "cell_type": "code",
   "execution_count": null,
   "metadata": {},
   "outputs": [],
   "source": []
  },
  {
   "cell_type": "code",
   "execution_count": null,
   "metadata": {},
   "outputs": [],
   "source": []
  },
  {
   "cell_type": "code",
   "execution_count": null,
   "metadata": {},
   "outputs": [],
   "source": []
  },
  {
   "cell_type": "code",
   "execution_count": null,
   "metadata": {},
   "outputs": [],
   "source": [
    "## plotly graphs \n",
    "\"\"\"x = regular_revenue['revenue'].index\n",
    "y = regular_revenue['revenue'].values.round(2)\n",
    "\n",
    "# Use textposition='auto' for direct text\n",
    "fig1 = go.Figure(data=[go.Bar(\n",
    "            x=['Aug','Sep','Oct'],\n",
    "            y=y,\n",
    "            text=y,\n",
    "            width=0.4,\n",
    "            textposition='auto',\n",
    "            marker=dict(color='lightblue'))])\n",
    "\n",
    "fig1.data[0].marker.line.width = 1\n",
    "fig1.data[0].marker.line.color = \"black\"\n",
    "fig1.update_layout(yaxis=dict(title='Sales Revenue'),\n",
    "                   title='Sales Revenues of Regular User Over Four Months',width=700,height=500,\n",
    "                   xaxis=dict(title='Month'))\n",
    "fig1.show()\"\"\""
   ]
  },
  {
   "cell_type": "code",
   "execution_count": null,
   "metadata": {},
   "outputs": [],
   "source": [
    "\"\"\"from plotly.subplots import make_subplots\n",
    "fig = make_subplots(1, 2, specs=[[{'type':'domain'}, {'type':'domain'}]],\n",
    "                    subplot_titles=['Regular User', 'New User'])\n",
    "colors = ['#e6f2ff','#99ccff','#ccccff','#cc99ff']\n",
    "counts_reg = df_2[(df_2['is_new_user']==0)&(df_2['is_after_oct']==1)].groupby(['is_free_ticket'])['city_of_event'].value_counts(sort=True)\n",
    "labels = ['Paid_ticket/City 5','Paid_ticket/City 6','Free/City 5','Free/City 6']\n",
    "values_reg = counts_reg.values\n",
    "pie_reg = go.Pie(labels=labels, values=counts_reg, marker=dict(colors = colors,line=dict(color='#000000', width=1)))\n",
    "#layout_paid = go.Layout(title='Paid Ticket Amount: New Users vs. Regular User')\n",
    "fig.add_trace(pie_reg, 1, 1)\n",
    "\n",
    "counts_new = df_2[df_2['is_new_user']==1].groupby(['is_free_ticket'])['city_of_event'].value_counts(sort=True)\n",
    "values_new = counts_new.values\n",
    "\n",
    "pie_new = go.Pie(labels=labels, values=counts_new, marker=dict(colors = colors,line=dict(color='#000000', width=1)))\n",
    "#layout_pree = go.Layout(title='Paid Ticket Amount (Nov): New Users vs. Regular User')\n",
    "fig.add_trace(pie_new, 1, 2)\n",
    "#go.Figure(data=[pie], layout=layout)\n",
    "fig.update_layout(title_text='New Users vs. Regular User:Paid/Free Ticket Amount')\n",
    "fig.show()\"\"\""
   ]
  }
 ],
 "metadata": {
  "kernelspec": {
   "display_name": "Python 3",
   "language": "python",
   "name": "python3"
  },
  "language_info": {
   "codemirror_mode": {
    "name": "ipython",
    "version": 3
   },
   "file_extension": ".py",
   "mimetype": "text/x-python",
   "name": "python",
   "nbconvert_exporter": "python",
   "pygments_lexer": "ipython3",
   "version": "3.7.3"
  }
 },
 "nbformat": 4,
 "nbformat_minor": 2
}
